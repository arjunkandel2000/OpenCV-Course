{
 "cells": [
  {
   "cell_type": "markdown",
   "id": "b200fe47",
   "metadata": {},
   "source": [
    "# CHAPTER 1: SOFTWARE AND PACKAGES SETUP"
   ]
  },
  {
   "cell_type": "code",
   "execution_count": 2,
   "id": "44dcc084",
   "metadata": {},
   "outputs": [],
   "source": [
    "import numpy as np\n",
    "import cv2\n",
    "from matplotlib import pyplot as plt\n",
    "from copy import deepcopy"
   ]
  },
  {
   "cell_type": "markdown",
   "id": "6b74820e",
   "metadata": {},
   "source": [
    "# CHAPTER 2: BASIC OPERATIONS ON IMAGES"
   ]
  },
  {
   "cell_type": "code",
   "execution_count": 3,
   "id": "ea550f7b",
   "metadata": {},
   "outputs": [],
   "source": [
    "img=cv2.imread(\"b.jpg\",0)"
   ]
  },
  {
   "cell_type": "code",
   "execution_count": 4,
   "id": "27357426",
   "metadata": {},
   "outputs": [
    {
     "data": {
      "text/plain": [
       "array([[255, 255, 255, ..., 255, 255, 255],\n",
       "       [255, 255, 255, ..., 255, 255, 255],\n",
       "       [255, 255, 255, ..., 255, 255, 255],\n",
       "       ...,\n",
       "       [255, 255, 255, ..., 255, 255, 255],\n",
       "       [255, 255, 255, ..., 255, 255, 255],\n",
       "       [255, 255, 255, ..., 255, 255, 255]], dtype=uint8)"
      ]
     },
     "execution_count": 4,
     "metadata": {},
     "output_type": "execute_result"
    }
   ],
   "source": [
    "img"
   ]
  },
  {
   "cell_type": "code",
   "execution_count": 3,
   "id": "7258eba2",
   "metadata": {},
   "outputs": [],
   "source": [
    "def wind(image):    \n",
    "    cv2.namedWindow('image',cv2.WINDOW_NORMAL)\n",
    "    cv2.imshow('image',image)\n",
    "    cv2.waitKey(0)\n",
    "    cv2.destroyAllWindows()"
   ]
  },
  {
   "cell_type": "code",
   "execution_count": 6,
   "id": "82e64e80",
   "metadata": {},
   "outputs": [],
   "source": [
    "wind(img)"
   ]
  },
  {
   "cell_type": "code",
   "execution_count": 7,
   "id": "63d9b055",
   "metadata": {},
   "outputs": [],
   "source": [
    "img1=cv2.imread(\"b.jpg\",1)\n",
    "wind(img1)"
   ]
  },
  {
   "cell_type": "code",
   "execution_count": 8,
   "id": "53d3949f",
   "metadata": {},
   "outputs": [],
   "source": [
    "img2=deepcopy(img1)\n",
    "circle=cv2.circle(img2,(300,250),130,(55,33,59),10)\n",
    "wind(circle)"
   ]
  },
  {
   "cell_type": "code",
   "execution_count": 8,
   "id": "9644443f",
   "metadata": {},
   "outputs": [],
   "source": [
    "img4=cv2.imread(\"b.jpg\",1)\n",
    "wind(img4)"
   ]
  },
  {
   "cell_type": "code",
   "execution_count": null,
   "id": "e5268808",
   "metadata": {},
   "outputs": [],
   "source": [
    "img3=deepcopy(img4)\n",
    "def clickToCircle(event,x,y,flags,param):\n",
    "    if event==cv2.EVENT_LBUTTONDBLCLK:\n",
    "        cv2.circle(img3,(x,y),50,(255,33,59),5)\n",
    "cv2.namedWindow('DIFFERENCES',cv2.WINDOW_NORMAL)\n",
    "cv2.setMouseCallback('DIFFERENCES',clickToCircle)\n",
    "\n",
    "while True:\n",
    "    cv2.imshow('DIFFERENCES',img3)\n",
    "    a=cv2.waitKey(1)\n",
    "    print(a)\n",
    "    if a==27:\n",
    "        break\n",
    "a=a+1\n",
    "cv2.destroyAllWindows() "
   ]
  },
  {
   "cell_type": "code",
   "execution_count": null,
   "id": "0e6ff3f9",
   "metadata": {},
   "outputs": [],
   "source": [
    "#splitting channels, map algebera"
   ]
  },
  {
   "cell_type": "code",
   "execution_count": 6,
   "id": "075c32d0",
   "metadata": {},
   "outputs": [],
   "source": [
    "b,g,r=cv2.split(img4)"
   ]
  },
  {
   "cell_type": "code",
   "execution_count": 7,
   "id": "a735ac19",
   "metadata": {},
   "outputs": [
    {
     "data": {
      "text/plain": [
       "array([[[255, 255, 255],\n",
       "        [255, 255, 255],\n",
       "        [255, 255, 255],\n",
       "        ...,\n",
       "        [255, 255, 255],\n",
       "        [255, 255, 255],\n",
       "        [255, 255, 255]],\n",
       "\n",
       "       [[255, 255, 255],\n",
       "        [255, 255, 255],\n",
       "        [255, 255, 255],\n",
       "        ...,\n",
       "        [255, 255, 255],\n",
       "        [255, 255, 255],\n",
       "        [255, 255, 255]],\n",
       "\n",
       "       [[255, 255, 255],\n",
       "        [255, 255, 255],\n",
       "        [255, 255, 255],\n",
       "        ...,\n",
       "        [255, 255, 255],\n",
       "        [255, 255, 255],\n",
       "        [255, 255, 255]],\n",
       "\n",
       "       ...,\n",
       "\n",
       "       [[255, 255, 255],\n",
       "        [255, 255, 255],\n",
       "        [255, 255, 255],\n",
       "        ...,\n",
       "        [255, 255, 255],\n",
       "        [255, 255, 255],\n",
       "        [255, 255, 255]],\n",
       "\n",
       "       [[255, 255, 255],\n",
       "        [255, 255, 255],\n",
       "        [255, 255, 255],\n",
       "        ...,\n",
       "        [255, 255, 255],\n",
       "        [255, 255, 255],\n",
       "        [255, 255, 255]],\n",
       "\n",
       "       [[255, 255, 255],\n",
       "        [255, 255, 255],\n",
       "        [255, 255, 255],\n",
       "        ...,\n",
       "        [255, 255, 255],\n",
       "        [255, 255, 255],\n",
       "        [255, 255, 255]]], dtype=uint8)"
      ]
     },
     "execution_count": 7,
     "metadata": {},
     "output_type": "execute_result"
    }
   ],
   "source": [
    "img4\n"
   ]
  },
  {
   "cell_type": "code",
   "execution_count": 8,
   "id": "e73f37da",
   "metadata": {},
   "outputs": [],
   "source": [
    "wind(img4)"
   ]
  },
  {
   "cell_type": "code",
   "execution_count": 9,
   "id": "46fc6d17",
   "metadata": {},
   "outputs": [],
   "source": [
    "wind(r)"
   ]
  },
  {
   "cell_type": "code",
   "execution_count": 11,
   "id": "e4b7c9a2",
   "metadata": {},
   "outputs": [],
   "source": [
    "img5=cv2.merge((b,g,r))\n",
    "wind(img5)"
   ]
  },
  {
   "cell_type": "code",
   "execution_count": null,
   "id": "c47478dc",
   "metadata": {},
   "outputs": [],
   "source": [
    "#resizing, cropping, exporting images"
   ]
  },
  {
   "cell_type": "code",
   "execution_count": 9,
   "id": "96c75a0d",
   "metadata": {},
   "outputs": [],
   "source": [
    "imres=cv2.resize(img4,dsize=None,fx=0.5,fy=.5,interpolation=cv2.INTER_CUBIC)\n"
   ]
  },
  {
   "cell_type": "code",
   "execution_count": 10,
   "id": "20e73ea2",
   "metadata": {},
   "outputs": [],
   "source": [
    "cv2.imshow('window',imres)\n",
    "cv2.waitKey(0)\n",
    "cv2.destroyAllWindows()"
   ]
  },
  {
   "cell_type": "code",
   "execution_count": 12,
   "id": "38e9bb9b",
   "metadata": {},
   "outputs": [],
   "source": [
    "cropped=imres[223:255, 250:350]"
   ]
  },
  {
   "cell_type": "code",
   "execution_count": 13,
   "id": "c09beeea",
   "metadata": {},
   "outputs": [],
   "source": [
    "wind(cropped)"
   ]
  },
  {
   "cell_type": "code",
   "execution_count": 15,
   "id": "8b834b40",
   "metadata": {},
   "outputs": [
    {
     "data": {
      "text/plain": [
       "True"
      ]
     },
     "execution_count": 15,
     "metadata": {},
     "output_type": "execute_result"
    }
   ],
   "source": [
    "cv2.imwrite('cropped_image.jpg',cropped)"
   ]
  },
  {
   "cell_type": "markdown",
   "id": "043f0cda",
   "metadata": {},
   "source": [
    "# CHAPTER 3: GEOMETRIC OPERATIONS IN IMAGES"
   ]
  },
  {
   "cell_type": "code",
   "execution_count": 3,
   "id": "00319552",
   "metadata": {},
   "outputs": [],
   "source": [
    "#image gradients"
   ]
  },
  {
   "cell_type": "code",
   "execution_count": 35,
   "id": "ec4c2582",
   "metadata": {},
   "outputs": [],
   "source": [
    "img=cv2.imread(\"land.png\",0)\n",
    "wind(img)"
   ]
  },
  {
   "cell_type": "code",
   "execution_count": 6,
   "id": "f5f6d994",
   "metadata": {},
   "outputs": [],
   "source": [
    "sobelx=cv2.Sobel(img,cv2.CV_8U,1,0,ksize=3)#x filter"
   ]
  },
  {
   "cell_type": "code",
   "execution_count": 10,
   "id": "a9ce68c6",
   "metadata": {},
   "outputs": [],
   "source": [
    "wind(sobelx)"
   ]
  },
  {
   "cell_type": "code",
   "execution_count": 8,
   "id": "eb786972",
   "metadata": {},
   "outputs": [],
   "source": [
    "sobely=cv2.Sobel(img,cv2.CV_8U,0,1,ksize=3)#y filter"
   ]
  },
  {
   "cell_type": "code",
   "execution_count": 34,
   "id": "caf8ed05",
   "metadata": {},
   "outputs": [],
   "source": [
    "wind(sobely)"
   ]
  },
  {
   "cell_type": "code",
   "execution_count": 13,
   "id": "0828993f",
   "metadata": {},
   "outputs": [],
   "source": [
    "laplacian=cv2.Laplacian(img,cv2.CV_8U)"
   ]
  },
  {
   "cell_type": "code",
   "execution_count": 14,
   "id": "ca7529e7",
   "metadata": {},
   "outputs": [],
   "source": [
    "wind(laplacian)"
   ]
  },
  {
   "cell_type": "code",
   "execution_count": 15,
   "id": "28b53119",
   "metadata": {},
   "outputs": [],
   "source": [
    "# edge and feature detection"
   ]
  },
  {
   "cell_type": "code",
   "execution_count": 16,
   "id": "d0ab4965",
   "metadata": {},
   "outputs": [],
   "source": [
    "canny= cv2.Canny(img,100,200)"
   ]
  },
  {
   "cell_type": "code",
   "execution_count": 17,
   "id": "1075aa47",
   "metadata": {},
   "outputs": [],
   "source": [
    "wind(canny)"
   ]
  },
  {
   "cell_type": "code",
   "execution_count": 18,
   "id": "125d1584",
   "metadata": {},
   "outputs": [],
   "source": [
    "imgcolor= cv2.imread('land.png',1)\n",
    "wind(imgcolor)"
   ]
  },
  {
   "cell_type": "code",
   "execution_count": 20,
   "id": "96970fcc",
   "metadata": {},
   "outputs": [],
   "source": [
    "cannycoloredges = cv2.Canny(imgcolor,300,400)#automatically turns image into black and white image\n",
    "wind(cannycolor)"
   ]
  },
  {
   "cell_type": "code",
   "execution_count": 21,
   "id": "279d841b",
   "metadata": {},
   "outputs": [],
   "source": [
    "tennis=cv2.imread('tennins.jpg',1)"
   ]
  },
  {
   "cell_type": "code",
   "execution_count": 33,
   "id": "f57b0f67",
   "metadata": {},
   "outputs": [],
   "source": [
    "wind(tennis)\n",
    "edges = cv2.Canny(tennis,300,400)"
   ]
  },
  {
   "cell_type": "code",
   "execution_count": 24,
   "id": "26b8ba5c",
   "metadata": {},
   "outputs": [],
   "source": [
    "lines=cv2.HoughLines(edges,1,np.pi/180,200)"
   ]
  },
  {
   "cell_type": "code",
   "execution_count": 25,
   "id": "82baaec2",
   "metadata": {},
   "outputs": [
    {
     "data": {
      "text/plain": [
       "array([[[ 37.       ,   1.5707964]],\n",
       "\n",
       "       [[329.       ,   1.5707964]],\n",
       "\n",
       "       [[ 43.       ,   1.5707964]],\n",
       "\n",
       "       [[323.       ,   1.5707964]],\n",
       "\n",
       "       [[285.       ,   1.5707964]],\n",
       "\n",
       "       [[ 80.       ,   1.5707964]],\n",
       "\n",
       "       [[ 85.       ,   1.5707964]],\n",
       "\n",
       "       [[280.       ,   1.5707964]],\n",
       "\n",
       "       [[ 35.       ,   0.       ]],\n",
       "\n",
       "       [[576.       ,   0.       ]],\n",
       "\n",
       "       [[180.       ,   1.5707964]],\n",
       "\n",
       "       [[185.       ,   1.5707964]],\n",
       "\n",
       "       [[303.       ,   0.       ]],\n",
       "\n",
       "       [[308.       ,   0.       ]],\n",
       "\n",
       "       [[571.       ,   0.       ]],\n",
       "\n",
       "       [[ 40.       ,   0.       ]]], dtype=float32)"
      ]
     },
     "execution_count": 25,
     "metadata": {},
     "output_type": "execute_result"
    }
   ],
   "source": [
    "lines"
   ]
  },
  {
   "cell_type": "code",
   "execution_count": 30,
   "id": "d39fcf0c",
   "metadata": {},
   "outputs": [],
   "source": [
    "for iterator in lines:\n",
    "    rho=iterator[0,0]\n",
    "    theta=iterator[0,1]\n",
    "    a=np.cos(theta)\n",
    "    b=np.sin(theta)\n",
    "    x0=a*rho\n",
    "    y0=b*rho\n",
    "    x1=int(x0+1000*(-b))\n",
    "    y1=int(y0+1000*(a))\n",
    "    x2=int(x0-1000*(-b))\n",
    "    y2=int(y0-1000*(a))\n",
    "    cv2.line(tennis,(x1,y1),(x2,y2),(0,0,255),2)"
   ]
  },
  {
   "cell_type": "code",
   "execution_count": 32,
   "id": "e13b03ec",
   "metadata": {},
   "outputs": [],
   "source": [
    "wind(tennis)"
   ]
  },
  {
   "cell_type": "code",
   "execution_count": 36,
   "id": "708f1c1a",
   "metadata": {},
   "outputs": [],
   "source": [
    "#geocomputation application"
   ]
  },
  {
   "cell_type": "code",
   "execution_count": 37,
   "id": "9c41b4c9",
   "metadata": {},
   "outputs": [],
   "source": [
    "imgN1=cv2.imread(\"double.png\",1)\n",
    "wind(imgN1)"
   ]
  },
  {
   "cell_type": "code",
   "execution_count": 38,
   "id": "3437cd71",
   "metadata": {},
   "outputs": [],
   "source": [
    "diffs=np.array([[538,109],[1203,739],[758,137],[1240,467]])\n"
   ]
  },
  {
   "cell_type": "code",
   "execution_count": 39,
   "id": "1630afaf",
   "metadata": {},
   "outputs": [],
   "source": [
    "def euclid(x1,x2,y1,y2):\n",
    "    return int(np.sqrt((x1-x2)**2+(y1-y2)**2))"
   ]
  },
  {
   "cell_type": "code",
   "execution_count": null,
   "id": "301f725d",
   "metadata": {},
   "outputs": [],
   "source": [
    "imgN=deepcopy(imgN1)\n",
    "def click2circle(event,x,y,flags,param):\n",
    "    if event==cv2.EVENT_LBUTTONDBLCLK:\n",
    "        for diff in diffs:\n",
    "            if euclid(x,diff[0],y,diff[1])<15:\n",
    "                cv2.circle(imgN,(x,y),50,(255,0,0),4)\n",
    "\n",
    "cv2.namedWindow(\"differences\",cv2.WINDOW_NORMAL)\n",
    "cv2.setMouseCallback(\"differences\", click2circle)\n",
    "\n",
    "while True:\n",
    "    cv2.imshow(\"differences\",imgN)\n",
    "    a=cv2.waitKey(1)\n",
    "    if a==27:\n",
    "        break\n",
    "cv2.destroyAllWindows()"
   ]
  },
  {
   "cell_type": "markdown",
   "id": "bede1f5c",
   "metadata": {},
   "source": [
    "# CHAPTER 4: RADIOMETRIC OPERATIONS ON IMAGE"
   ]
  },
  {
   "cell_type": "code",
   "execution_count": 1,
   "id": "9ef26d9c",
   "metadata": {},
   "outputs": [],
   "source": [
    "#image colorspace and thresholding"
   ]
  },
  {
   "cell_type": "code",
   "execution_count": 4,
   "id": "de466c21",
   "metadata": {},
   "outputs": [],
   "source": [
    "imgN1=cv2.imread('tennins.jpg',1)"
   ]
  },
  {
   "cell_type": "code",
   "execution_count": 5,
   "id": "9d8665fc",
   "metadata": {},
   "outputs": [],
   "source": [
    "hsv=cv2.cvtColor(imgN1,cv2.COLOR_BGR2HSV)"
   ]
  },
  {
   "cell_type": "code",
   "execution_count": 6,
   "id": "8b44a95a",
   "metadata": {},
   "outputs": [],
   "source": [
    "wind(hsv)"
   ]
  },
  {
   "cell_type": "code",
   "execution_count": 7,
   "id": "91a3426e",
   "metadata": {},
   "outputs": [],
   "source": [
    "gray=cv2.cvtColor(imgN1,cv2.COLOR_BGR2GRAY)"
   ]
  },
  {
   "cell_type": "code",
   "execution_count": 8,
   "id": "5f820842",
   "metadata": {},
   "outputs": [],
   "source": [
    "wind(gray)"
   ]
  },
  {
   "cell_type": "code",
   "execution_count": 9,
   "id": "dd5e6b79",
   "metadata": {},
   "outputs": [],
   "source": [
    "r,t=cv2.threshold(gray,100,255,cv2.THRESH_BINARY)"
   ]
  },
  {
   "cell_type": "code",
   "execution_count": 10,
   "id": "267c884d",
   "metadata": {},
   "outputs": [
    {
     "data": {
      "text/plain": [
       "100.0"
      ]
     },
     "execution_count": 10,
     "metadata": {},
     "output_type": "execute_result"
    }
   ],
   "source": [
    "r\n"
   ]
  },
  {
   "cell_type": "code",
   "execution_count": 11,
   "id": "83086670",
   "metadata": {},
   "outputs": [
    {
     "data": {
      "text/plain": [
       "array([[255, 255, 255, ..., 255, 255, 255],\n",
       "       [255, 255, 255, ..., 255, 255, 255],\n",
       "       [255, 255, 255, ..., 255, 255, 255],\n",
       "       ...,\n",
       "       [255, 255, 255, ..., 255, 255, 255],\n",
       "       [255, 255, 255, ..., 255, 255, 255],\n",
       "       [255, 255, 255, ..., 255, 255, 255]], dtype=uint8)"
      ]
     },
     "execution_count": 11,
     "metadata": {},
     "output_type": "execute_result"
    }
   ],
   "source": [
    "t"
   ]
  },
  {
   "cell_type": "code",
   "execution_count": 12,
   "id": "2e9255ea",
   "metadata": {},
   "outputs": [],
   "source": [
    "wind(t)"
   ]
  },
  {
   "cell_type": "code",
   "execution_count": 13,
   "id": "2098e3ad",
   "metadata": {},
   "outputs": [],
   "source": [
    "# Image histogram"
   ]
  },
  {
   "cell_type": "code",
   "execution_count": 14,
   "id": "dfa81269",
   "metadata": {},
   "outputs": [],
   "source": [
    "lena=cv2.imread(\"lena.jpg\",0)"
   ]
  },
  {
   "cell_type": "code",
   "execution_count": 15,
   "id": "0392a191",
   "metadata": {},
   "outputs": [],
   "source": [
    "wind(lena)"
   ]
  },
  {
   "cell_type": "code",
   "execution_count": 16,
   "id": "4b12170c",
   "metadata": {},
   "outputs": [],
   "source": [
    "hist=cv2.calcHist([lena],[0],None,[256],[0,256])"
   ]
  },
  {
   "cell_type": "code",
   "execution_count": 17,
   "id": "b85cf9c0",
   "metadata": {},
   "outputs": [],
   "source": [
    "xaxis=np.arange(256).reshape(256,1)"
   ]
  },
  {
   "cell_type": "code",
   "execution_count": 18,
   "id": "e18101b4",
   "metadata": {},
   "outputs": [],
   "source": [
    "histogram=np.hstack((xaxis,hist)).astype(int)"
   ]
  },
  {
   "cell_type": "code",
   "execution_count": 19,
   "id": "fc354075",
   "metadata": {},
   "outputs": [
    {
     "data": {
      "text/plain": [
       "<function matplotlib.pyplot.show(close=None, block=None)>"
      ]
     },
     "execution_count": 19,
     "metadata": {},
     "output_type": "execute_result"
    },
    {
     "data": {
      "image/png": "[encoded data removed]",
      "text/plain": [
       "<Figure size 432x288 with 1 Axes>"
      ]
     },
     "metadata": {
      "needs_background": "light"
     },
     "output_type": "display_data"
    }
   ],
   "source": [
    "plt.hist(lena.flatten(),256,[0,256])\n",
    "plt.show"
   ]
  },
  {
   "cell_type": "code",
   "execution_count": 20,
   "id": "b0b343aa",
   "metadata": {},
   "outputs": [],
   "source": [
    "equ=cv2.equalizeHist(lena)"
   ]
  },
  {
   "cell_type": "code",
   "execution_count": 21,
   "id": "e921a5ee",
   "metadata": {},
   "outputs": [],
   "source": [
    "wind(equ)"
   ]
  },
  {
   "cell_type": "code",
   "execution_count": 22,
   "id": "e4c5585a",
   "metadata": {},
   "outputs": [],
   "source": [
    "res=np.hstack((lena,equ))"
   ]
  },
  {
   "cell_type": "code",
   "execution_count": 23,
   "id": "cb95cd9c",
   "metadata": {},
   "outputs": [],
   "source": [
    "wind(res)"
   ]
  },
  {
   "cell_type": "code",
   "execution_count": 24,
   "id": "16180a9c",
   "metadata": {},
   "outputs": [],
   "source": [
    "#Convolution based operations"
   ]
  },
  {
   "cell_type": "code",
   "execution_count": 26,
   "id": "e02a93f9",
   "metadata": {},
   "outputs": [],
   "source": [
    "blur=cv2.blur(lena,(5,5))\n",
    "wind(blur)"
   ]
  },
  {
   "cell_type": "code",
   "execution_count": 27,
   "id": "e24653d9",
   "metadata": {},
   "outputs": [],
   "source": [
    "blurG=cv2.GaussianBlur(lena,(13,13),0)\n",
    "wind(blurG)"
   ]
  },
  {
   "cell_type": "code",
   "execution_count": 28,
   "id": "e0b364a5",
   "metadata": {},
   "outputs": [],
   "source": [
    "res=np.hstack((lena,blurG))\n",
    "wind(res)"
   ]
  },
  {
   "cell_type": "code",
   "execution_count": 29,
   "id": "eb570d88",
   "metadata": {},
   "outputs": [],
   "source": [
    "# k-means classification"
   ]
  },
  {
   "cell_type": "code",
   "execution_count": 32,
   "id": "0d6f0717",
   "metadata": {},
   "outputs": [],
   "source": [
    "img=cv2.imread(\"im0.png\",1)\n",
    "#wind(img)"
   ]
  },
  {
   "cell_type": "code",
   "execution_count": 33,
   "id": "4986864f",
   "metadata": {},
   "outputs": [],
   "source": [
    "imgCL=np.float32(img.reshape((-1,3)))"
   ]
  },
  {
   "cell_type": "code",
   "execution_count": 35,
   "id": "0436bfcf",
   "metadata": {},
   "outputs": [],
   "source": [
    "imgCL=np.float32(img.reshape((-1,3)))\n",
    "criteria=(cv2.TERM_CRITERIA_EPS+cv2.TERM_CRITERIA_MAX_ITER,10,1.0)\n",
    "K=4\n",
    "ret,lab,center=cv2.kmeans(imgCL,K,None,criteria,10,cv2.KMEANS_RANDOM_CENTERS)\n",
    "center=np.uint8(center)\n",
    "res=center[lab.flatten()]\n",
    "res2=res.reshape((img.shape))\n",
    "wind(res2)"
   ]
  },
  {
   "cell_type": "code",
   "execution_count": 36,
   "id": "6517b460",
   "metadata": {},
   "outputs": [
    {
     "data": {
      "text/plain": [
       "array([[0],\n",
       "       [0],\n",
       "       [0],\n",
       "       ...,\n",
       "       [3],\n",
       "       [3],\n",
       "       [3]], dtype=int32)"
      ]
     },
     "execution_count": 36,
     "metadata": {},
     "output_type": "execute_result"
    }
   ],
   "source": [
    "lab"
   ]
  },
  {
   "cell_type": "code",
   "execution_count": 37,
   "id": "f9797f97",
   "metadata": {},
   "outputs": [
    {
     "data": {
      "text/plain": [
       "array([[ 94, 105, 127],\n",
       "       [ 48,  54, 217],\n",
       "       [ 31,  39,  63],\n",
       "       [166, 174, 189]], dtype=uint8)"
      ]
     },
     "execution_count": 37,
     "metadata": {},
     "output_type": "execute_result"
    }
   ],
   "source": [
    "center"
   ]
  },
  {
   "cell_type": "code",
   "execution_count": 38,
   "id": "790ead58",
   "metadata": {},
   "outputs": [
    {
     "data": {
      "text/plain": [
       "10629977537.329216"
      ]
     },
     "execution_count": 38,
     "metadata": {},
     "output_type": "execute_result"
    }
   ],
   "source": [
    "ret"
   ]
  },
  {
   "cell_type": "code",
   "execution_count": null,
   "id": "3e5c0e4f",
   "metadata": {},
   "outputs": [],
   "source": []
  }
 ],
 "metadata": {
  "kernelspec": {
   "display_name": "opencv",
   "language": "python",
   "name": "opencv"
  },
  "language_info": {
   "codemirror_mode": {
    "name": "ipython",
    "version": 3
   },
   "file_extension": ".py",
   "mimetype": "text/x-python",
   "name": "python",
   "nbconvert_exporter": "python",
   "pygments_lexer": "ipython3",
   "version": "3.8.10"
  }
 },
 "nbformat": 4,
 "nbformat_minor": 5
}
